{
 "cells": [
  {
   "cell_type": "code",
   "execution_count": 1,
   "metadata": {},
   "outputs": [
    {
     "ename": "ModuleNotFoundError",
     "evalue": "No module named 'rosbag_pandas'",
     "output_type": "error",
     "traceback": [
      "\u001b[0;31m---------------------------------------------------------------------------\u001b[0m",
      "\u001b[0;31mModuleNotFoundError\u001b[0m                       Traceback (most recent call last)",
      "\u001b[0;32m<ipython-input-1-8402e7bc2de7>\u001b[0m in \u001b[0;36m<module>\u001b[0;34m\u001b[0m\n\u001b[1;32m      4\u001b[0m \u001b[0;34m\u001b[0m\u001b[0m\n\u001b[1;32m      5\u001b[0m \u001b[0;32mfrom\u001b[0m \u001b[0mipywidgets\u001b[0m \u001b[0;32mimport\u001b[0m \u001b[0minteract\u001b[0m\u001b[0;34m,\u001b[0m \u001b[0minteractive\u001b[0m\u001b[0;34m,\u001b[0m \u001b[0mfixed\u001b[0m\u001b[0;34m,\u001b[0m \u001b[0minteract_manual\u001b[0m\u001b[0;34m\u001b[0m\u001b[0m\n\u001b[0;32m----> 6\u001b[0;31m \u001b[0;32mfrom\u001b[0m \u001b[0mutilities\u001b[0m\u001b[0;34m.\u001b[0m\u001b[0mvisualisation\u001b[0m \u001b[0;32mimport\u001b[0m \u001b[0;34m*\u001b[0m\u001b[0;34m\u001b[0m\u001b[0m\n\u001b[0m",
      "\u001b[0;32m~/code/utilities/visualisation/__init__.py\u001b[0m in \u001b[0;36m<module>\u001b[0;34m\u001b[0m\n\u001b[1;32m      8\u001b[0m \u001b[0;32mimport\u001b[0m \u001b[0mseaborn\u001b[0m \u001b[0;32mas\u001b[0m \u001b[0msns\u001b[0m\u001b[0;34m\u001b[0m\u001b[0m\n\u001b[1;32m      9\u001b[0m \u001b[0;34m\u001b[0m\u001b[0m\n\u001b[0;32m---> 10\u001b[0;31m \u001b[0;32mfrom\u001b[0m \u001b[0mutilities\u001b[0m\u001b[0;34m.\u001b[0m\u001b[0mpostprocessing\u001b[0m\u001b[0;34m.\u001b[0m\u001b[0mutils\u001b[0m \u001b[0;32mimport\u001b[0m \u001b[0;34m*\u001b[0m\u001b[0;34m\u001b[0m\u001b[0m\n\u001b[0m\u001b[1;32m     11\u001b[0m \u001b[0;32mfrom\u001b[0m \u001b[0mmatplotlib\u001b[0m \u001b[0;32mimport\u001b[0m \u001b[0mgridspec\u001b[0m\u001b[0;34m\u001b[0m\u001b[0m\n\u001b[1;32m     12\u001b[0m \u001b[0;32mfrom\u001b[0m \u001b[0mutilities\u001b[0m\u001b[0;34m.\u001b[0m\u001b[0mpostprocessing\u001b[0m\u001b[0;34m.\u001b[0m\u001b[0mhandlers\u001b[0m \u001b[0;32mimport\u001b[0m \u001b[0madd_advancement\u001b[0m\u001b[0;34m\u001b[0m\u001b[0m\n",
      "\u001b[0;32m~/code/utilities/postprocessing/__init__.py\u001b[0m in \u001b[0;36m<module>\u001b[0;34m\u001b[0m\n\u001b[0;32m----> 1\u001b[0;31m \u001b[0;32mfrom\u001b[0m \u001b[0;34m.\u001b[0m\u001b[0mPostProcessing\u001b[0m \u001b[0;32mimport\u001b[0m \u001b[0mPostProcessing\u001b[0m\u001b[0;34m\u001b[0m\u001b[0m\n\u001b[0m",
      "\u001b[0;32m~/code/utilities/postprocessing/PostProcessing.py\u001b[0m in \u001b[0;36m<module>\u001b[0;34m\u001b[0m\n\u001b[0;32m----> 1\u001b[0;31m \u001b[0;32mfrom\u001b[0m \u001b[0mutilities\u001b[0m\u001b[0;34m.\u001b[0m\u001b[0mpostprocessing\u001b[0m\u001b[0;34m.\u001b[0m\u001b[0mhandlers\u001b[0m \u001b[0;32mimport\u001b[0m \u001b[0;34m*\u001b[0m\u001b[0;34m\u001b[0m\u001b[0m\n\u001b[0m\u001b[1;32m      2\u001b[0m \u001b[0;32mfrom\u001b[0m \u001b[0mutilities\u001b[0m\u001b[0;34m.\u001b[0m\u001b[0mpostprocessing\u001b[0m\u001b[0;34m.\u001b[0m\u001b[0mutils\u001b[0m \u001b[0;32mimport\u001b[0m \u001b[0mTraversabilityDir\u001b[0m\u001b[0;34m\u001b[0m\u001b[0m\n\u001b[1;32m      3\u001b[0m \u001b[0;32mfrom\u001b[0m \u001b[0mutilities\u001b[0m\u001b[0;34m.\u001b[0m\u001b[0mpostprocessing\u001b[0m\u001b[0;34m.\u001b[0m\u001b[0mextractions\u001b[0m \u001b[0;32mimport\u001b[0m \u001b[0mKrockPatchExtractStrategy\u001b[0m\u001b[0;34m\u001b[0m\u001b[0m\n\u001b[1;32m      4\u001b[0m \u001b[0;32mfrom\u001b[0m \u001b[0mutilities\u001b[0m\u001b[0;34m.\u001b[0m\u001b[0mpipeline\u001b[0m \u001b[0;32mimport\u001b[0m \u001b[0mCompose\u001b[0m\u001b[0;34m,\u001b[0m \u001b[0mMultiThreadWrapper\u001b[0m\u001b[0;34m\u001b[0m\u001b[0m\n\u001b[1;32m      5\u001b[0m \u001b[0;34m\u001b[0m\u001b[0m\n",
      "\u001b[0;32m~/code/utilities/postprocessing/handlers/__init__.py\u001b[0m in \u001b[0;36m<module>\u001b[0;34m\u001b[0m\n\u001b[0;32m----> 1\u001b[0;31m \u001b[0;32mfrom\u001b[0m \u001b[0;34m.\u001b[0m\u001b[0mhandlers\u001b[0m \u001b[0;32mimport\u001b[0m \u001b[0;34m*\u001b[0m\u001b[0;34m\u001b[0m\u001b[0m\n\u001b[0m",
      "\u001b[0;32m~/code/utilities/postprocessing/handlers/handlers.py\u001b[0m in \u001b[0;36m<module>\u001b[0;34m\u001b[0m\n\u001b[0;32m----> 1\u001b[0;31m \u001b[0;32mimport\u001b[0m \u001b[0mrosbag_pandas\u001b[0m\u001b[0;34m\u001b[0m\u001b[0m\n\u001b[0m\u001b[1;32m      2\u001b[0m \u001b[0;34m\u001b[0m\u001b[0m\n\u001b[1;32m      3\u001b[0m \u001b[0;32mfrom\u001b[0m \u001b[0mutilities\u001b[0m\u001b[0;34m.\u001b[0m\u001b[0mpipeline\u001b[0m \u001b[0;32mimport\u001b[0m \u001b[0mHandler\u001b[0m\u001b[0;34m\u001b[0m\u001b[0m\n\u001b[1;32m      4\u001b[0m \u001b[0;32mfrom\u001b[0m \u001b[0;34m.\u001b[0m\u001b[0mfunctional\u001b[0m \u001b[0;32mimport\u001b[0m \u001b[0;34m*\u001b[0m\u001b[0;34m\u001b[0m\u001b[0m\n\u001b[1;32m      5\u001b[0m \u001b[0;34m\u001b[0m\u001b[0m\n",
      "\u001b[0;31mModuleNotFoundError\u001b[0m: No module named 'rosbag_pandas'"
     ]
    }
   ],
   "source": [
    "import numpy as np\n",
    "import pandas as pd\n",
    "import ipywidgets as widgets\n",
    "\n",
    "from ipywidgets import interact, interactive, fixed, interact_manual\n",
    "from utilities.visualisation import *"
   ]
  },
  {
   "cell_type": "code",
   "execution_count": 2,
   "metadata": {
    "scrolled": false
   },
   "outputs": [],
   "source": [
    "%matplotlib notebook\n",
    "%load_ext autoreload\n",
    "%autoreload 2"
   ]
  },
  {
   "cell_type": "code",
   "execution_count": 3,
   "metadata": {
    "scrolled": true
   },
   "outputs": [
    {
     "data": {
      "text/html": [
       "<style>\n",
       "\n",
       "div.output_scroll {\n",
       "    height : auto;\n",
       "}\n",
       "</style>"
      ],
      "text/plain": [
       "<IPython.core.display.HTML object>"
      ]
     },
     "metadata": {},
     "output_type": "display_data"
    }
   ],
   "source": [
    "%%html\n",
    "<style>\n",
    "\n",
    "div.output_scroll {\n",
    "    height : auto;\n",
    "}\n",
    "</style>"
   ]
  },
  {
   "cell_type": "code",
   "execution_count": 4,
   "metadata": {},
   "outputs": [],
   "source": [
    "trs = [0.2, 0.3, 0.4, 0.5]\n",
    "ts = [100,150]"
   ]
  },
  {
   "cell_type": "markdown",
   "metadata": {},
   "source": [
    "# Select threshold\n",
    "## Ramps"
   ]
  },
  {
   "cell_type": "code",
   "execution_count": 6,
   "metadata": {},
   "outputs": [
    {
     "ename": "ModuleNotFoundError",
     "evalue": "No module named 'jupyterthemes'",
     "output_type": "error",
     "traceback": [
      "\u001b[0;31m---------------------------------------------------------------------------\u001b[0m",
      "\u001b[0;31mModuleNotFoundError\u001b[0m                       Traceback (most recent call last)",
      "\u001b[0;32m<ipython-input-6-f233ed027083>\u001b[0m in \u001b[0;36m<module>\u001b[0;34m()\u001b[0m\n\u001b[1;32m      1\u001b[0m \u001b[0mout_dir\u001b[0m \u001b[0;34m=\u001b[0m \u001b[0;34m'/data/iakram/Master-Thesis/papers/Thesis/img/select-tr'\u001b[0m\u001b[0;34m\u001b[0m\u001b[0;34m\u001b[0m\u001b[0m\n\u001b[0;32m----> 2\u001b[0;31m \u001b[0;32mfrom\u001b[0m \u001b[0mjupyterthemes\u001b[0m \u001b[0;32mimport\u001b[0m \u001b[0mjtplot\u001b[0m\u001b[0;34m\u001b[0m\u001b[0;34m\u001b[0m\u001b[0m\n\u001b[0m\u001b[1;32m      3\u001b[0m \u001b[0mjtplot\u001b[0m\u001b[0;34m.\u001b[0m\u001b[0mreset\u001b[0m\u001b[0;34m(\u001b[0m\u001b[0;34m)\u001b[0m\u001b[0;34m\u001b[0m\u001b[0;34m\u001b[0m\u001b[0m\n\u001b[1;32m      4\u001b[0m \u001b[0;34m\u001b[0m\u001b[0m\n\u001b[1;32m      5\u001b[0m \u001b[0mplt\u001b[0m\u001b[0;34m.\u001b[0m\u001b[0mstyle\u001b[0m\u001b[0;34m.\u001b[0m\u001b[0muse\u001b[0m\u001b[0;34m(\u001b[0m\u001b[0;34m[\u001b[0m\u001b[0;34m'science'\u001b[0m\u001b[0;34m,\u001b[0m \u001b[0;34m'ieee'\u001b[0m\u001b[0;34m]\u001b[0m\u001b[0;34m)\u001b[0m\u001b[0;34m\u001b[0m\u001b[0;34m\u001b[0m\u001b[0m\n",
      "\u001b[0;31mModuleNotFoundError\u001b[0m: No module named 'jupyterthemes'"
     ]
    }
   ],
   "source": [
    "out_dir = '/data/iakram/Master-Thesis/papers/Thesis/img/select-tr'\n",
    "from jupyterthemes import jtplot\n",
    "jtplot.reset()\n",
    "\n",
    "plt.style.use(['science', 'ieee'])\n",
    "# get_ipython().config.get('IPKernelApp', {})['parent_appname'] = \"\""
   ]
  },
  {
   "cell_type": "code",
   "execution_count": 7,
   "metadata": {},
   "outputs": [],
   "source": [
    "??DataFrameVisualization"
   ]
  },
  {
   "cell_type": "code",
   "execution_count": 8,
   "metadata": {
    "scrolled": true
   },
   "outputs": [
    {
     "data": {
      "application/vnd.jupyter.widget-view+json": {
       "model_id": "cc1fc8dc762b4f76947887605f2ecd27"
      }
     },
     "metadata": {},
     "output_type": "display_data"
    },
    {
     "data": {
      "text/plain": [
       "<function __main__.vis_int>"
      ]
     },
     "execution_count": 8,
     "metadata": {},
     "output_type": "execute_result"
    }
   ],
   "source": [
    "def vis_int(t):\n",
    "    vis = DataFrameVisualization.from_path('/media/francesco/saetta/krock-dataset/slope/csvs/test.csv', time_window=t)\n",
    "    fig = vis.plot_advancement_box()\n",
    "    plt.show()\n",
    "#     plt.gcf().savefig(out_dir + '/slope-box{}.png'.format(t))\n",
    "interact(vis_int, t=ts)"
   ]
  },
  {
   "cell_type": "markdown",
   "metadata": {},
   "source": [
    "## Bumps"
   ]
  },
  {
   "cell_type": "code",
   "execution_count": null,
   "metadata": {},
   "outputs": [],
   "source": [
    "def vis_int(t):\n",
    "    vis = DataFrameVisualization.from_path('/media/francesco/saetta/krock-dataset/tr/csvs/test.csv', time_window=t)\n",
    "    fig = vis.plot_advancement_box()\n",
    "    plt.gcf().savefig(out_dir + '/bumps-box{}.png'.format(t))\n",
    "\n",
    "interact(vis_int, t=ts)"
   ]
  },
  {
   "cell_type": "markdown",
   "metadata": {},
   "source": [
    "# Datasets\n",
    "## Statistics"
   ]
  },
  {
   "cell_type": "code",
   "execution_count": null,
   "metadata": {},
   "outputs": [],
   "source": [
    "visualizations = {\n",
    "    'train': DataFrameVisualization.from_root('/media/francesco/saetta/krock-dataset/train/csvs/'),\n",
    "    'val': DataFrameVisualization.from_root('/media/francesco/saetta/krock-dataset/val/csvs/'),\n",
    "#     'test': DataFrameVisualization.from_root('/media/francesco/saetta/krock-dataset/test/csvs/'),\n",
    "    'new-test-random': DataFrameVisualization.from_root('/media/francesco/saetta/krock-dataset/new-test-random/csvs/'),\n",
    "   'train-with-rock': DataFrameVisualization.from_root('/media/francesco/saetta/krock-dataset/train-with-rocks'),\n",
    "#     'new-val': DataFrameVisualization.from_root('/media/francesco/saetta/krock-dataset/new-val/csvs/'),\n",
    "\n",
    "\n",
    "\n",
    "}"
   ]
  },
  {
   "cell_type": "code",
   "execution_count": null,
   "metadata": {},
   "outputs": [],
   "source": [
    "def vis_dataset(name, tr, t):\n",
    "    vis = visualizations[name]\n",
    "    vis.add_advancement(t)\n",
    "#     vis.df = vis.df[vis.df['advancement'] >= -0.35]\n",
    "    vis.df = vis.df[vis.df['advancement'] < 0.75]\n",
    "    fig = vis.show_classes(tr)\n",
    "    plt.show()\n",
    "interact(vis_dataset, name=visualizations.keys(), tr=trs, t=ts)"
   ]
  },
  {
   "cell_type": "markdown",
   "metadata": {},
   "source": [
    "## Different maps\n",
    "We can explore the advancament on different training maps"
   ]
  },
  {
   "cell_type": "markdown",
   "metadata": {},
   "source": [
    "### Mean advancement for each map"
   ]
  },
  {
   "cell_type": "code",
   "execution_count": 41,
   "metadata": {},
   "outputs": [],
   "source": [
    "%matplotlib notebook\n",
    "from jupyterthemes import jtplot\n",
    "jtplot.reset()"
   ]
  },
  {
   "cell_type": "code",
   "execution_count": 42,
   "metadata": {},
   "outputs": [],
   "source": [
    "# merge all the dataframes in each map\n",
    "clusters = meta2clusters('/media/francesco/saetta/krock-dataset/train/meta.csv', '/media/francesco/saetta/krock-dataset/train/csvs_patches/')"
   ]
  },
  {
   "cell_type": "code",
   "execution_count": 51,
   "metadata": {},
   "outputs": [],
   "source": [
    "adv_for_each_map = { k: df['advancement'] for k, df in clusters.items()}"
   ]
  },
  {
   "cell_type": "code",
   "execution_count": 52,
   "metadata": {},
   "outputs": [],
   "source": [
    "adv_for_each_map = sorted(adv_for_each_map.items(), key=lambda kv: kv[1].mean(), reverse=False)\n",
    "\n",
    "import collections\n",
    "\n",
    "adv_for_each_map = collections.OrderedDict(adv_for_each_map)"
   ]
  },
  {
   "cell_type": "code",
   "execution_count": 55,
   "metadata": {
    "scrolled": false
   },
   "outputs": [],
   "source": [
    "mean_adv_df = pd.DataFrame(data = adv_for_each_map)\n",
    "mean_adv_df.dropna()\n",
    "mean_adv_df = mean_adv_df[mean_adv_df >= -0.71]\n",
    "mean_adv_df=  mean_adv_df[mean_adv_df < 0.71]\n",
    "\n",
    "# mean_adv_df.plot.bar(x='maps', y='means')\n",
    "fig = plt.figure(dpi=800, figsize=(16,8))\n",
    "_ = mean_adv_df.boxplot(rot=90)\n",
    "fig.savefig('/home/francesco/Documents/Master-Thesis/papers/Thesis/img/datasets/box_for_each_map.png', bbox_inches='tight', transparent=True)\n",
    "# plt.show()\n"
   ]
  },
  {
   "cell_type": "code",
   "execution_count": null,
   "metadata": {},
   "outputs": [],
   "source": [
    "list(mean_adv_df.columns)"
   ]
  },
  {
   "cell_type": "code",
   "execution_count": null,
   "metadata": {
    "scrolled": false
   },
   "outputs": [],
   "source": [
    "def vis_clusters(name, tr, t):\n",
    "    vis = DataFrameVisualization(clusters[name], time_window=t)\n",
    "    vis.df = vis.df[vis.df['advancement'] >= 0]\n",
    "    vis.df = vis.df[vis.df['advancement'] < 1]\n",
    "\n",
    "    vis.plot_advancement_box()\n",
    "    vis.show_classes(tr)\n",
    "\n",
    "interact(vis_clusters, name=clusters.keys(), tr=trs, t=ts)"
   ]
  },
  {
   "cell_type": "code",
   "execution_count": null,
   "metadata": {
    "scrolled": true
   },
   "outputs": [],
   "source": [
    "def vis_dataset(name, tr, t):\n",
    "    vis = DataFrameVisualization.from_root('/media/francesco/saetta/krock-dataset/{}/csvs/'.format(name), time_window=t)\n",
    "    vis.df = vis.df[vis.df['advancement'] >= 0]\n",
    "    vis.df = vis.df[vis.df['advancement'] < 1]\n",
    "\n",
    "    vis.plot_advancement_box()\n",
    "    vis.show_classes(tr)\n",
    "\n",
    "interact(vis_dataset, name=visualizations.keys(), tr=trs, t=ts)"
   ]
  },
  {
   "cell_type": "markdown",
   "metadata": {},
   "source": [
    "# Maximum advancement on flat ground"
   ]
  },
  {
   "cell_type": "code",
   "execution_count": null,
   "metadata": {},
   "outputs": [],
   "source": [
    "def vis_dataset(t):\n",
    "    vis = DataFrameVisualization.from_root('/media/francesco/saetta/flat/csvs_patches/',  time_window=t)\n",
    "    print(max(vis.df['advancement']))\n",
    "    vis.plot_advancement_box()\n",
    "\n",
    "\n",
    "interact(vis_dataset, t=ts)"
   ]
  },
  {
   "cell_type": "markdown",
   "metadata": {},
   "source": [
    "# Temp\n",
    "use to visualize on the fly some dataset"
   ]
  },
  {
   "cell_type": "code",
   "execution_count": 15,
   "metadata": {},
   "outputs": [],
   "source": [
    "from jupyterthemes import jtplot\n",
    "jtplot.reset()\n",
    "#\n",
    "plt.style.use(['science', 'ieee'])\n",
    "# matplotlib.rcParams['figure.figsize'] = (12,12)\n",
    "get_ipython().config.get('IPKernelApp', {})['parent_appname'] = \"\""
   ]
  },
  {
   "cell_type": "code",
   "execution_count": 18,
   "metadata": {},
   "outputs": [],
   "source": [
    "from utilities.postprocessing.handlers.functional import read_image\n",
    "dfs = glob.glob('/media/francesco/saetta/krock-dataset/train/100/csvs/bars1*.csv')\n",
    "hm = read_image('./maps/train/bars1.png') / 255\n",
    "patches_dir = '/media/francesco/saetta/krock-dataset/train/100/patches/'"
   ]
  },
  {
   "cell_type": "code",
   "execution_count": 24,
   "metadata": {},
   "outputs": [],
   "source": [
    "out_dir = '/home/francesco/Desktop/bars1-example-patches'\n",
    "from utilities.patches import Patch\n",
    "\n",
    "def store_patches_from_df(df, how_many=10):\n",
    "    skip = len(df) // how_many\n",
    "    for idx, row in df[::skip].iterrows():\n",
    "        fig = plt.figure()\n",
    "        p = Patch.from_path(patches_dir + '/' + row['images'])\n",
    "        p.plot2d().savefig('{}/{}-{}.png'.format(out_dir, idx, row['advancement']))"
   ]
  },
  {
   "cell_type": "code",
   "execution_count": 28,
   "metadata": {
    "scrolled": false
   },
   "outputs": [
    {
     "data": {
      "application/vnd.jupyter.widget-view+json": {
       "model_id": "4a43981c63974d90b999cf3668c0d302",
       "version_major": 2,
       "version_minor": 0
      },
      "text/plain": [
       "interactive(children=(Dropdown(description='df', options=('/media/francesco/saetta/krock-dataset/train/100/csv…"
      ]
     },
     "metadata": {},
     "output_type": "display_data"
    },
    {
     "data": {
      "text/plain": [
       "<function __main__.vis_df(df)>"
      ]
     },
     "execution_count": 28,
     "metadata": {},
     "output_type": "execute_result"
    }
   ],
   "source": [
    "def vis_df(df):\n",
    "    print(df)\n",
    "    vis = PatchesAndDataframeVisualization.from_path(df, hm)\n",
    "#     store_patches_from_df(vis.df)\n",
    "#     vis.plot_advancement()\n",
    "    vis.show_traces([vis.df])\n",
    "    plt.show()\n",
    "\n",
    "interact(vis_df, df=dfs)"
   ]
  },
  {
   "cell_type": "code",
   "execution_count": null,
   "metadata": {},
   "outputs": [],
   "source": [
    "vis = DataFrameVisualization.from_root('/media/francesco/saetta/krock-dataset/new-val/csvs', time_window=100)\n",
    "# vis(0.3)\n",
    "vis.df['label'] = vis.df['advancement'] > 0.3\n",
    "vis.df = vis.df[vis.df['label'] == False]\n",
    "\n",
    "vis(0.3)"
   ]
  },
  {
   "cell_type": "code",
   "execution_count": null,
   "metadata": {},
   "outputs": [],
   "source": [
    "\n",
    "vis = PatchesAndDataframeVisualization.from_df_path_and_hm_path('/media/francesco/saetta/krock-dataset/new-val/csvs/arc_rocks-1-1558626838.6769319.csv', \n",
    "                                                 './maps/val/arc_rocks.png',\n",
    "                                                 max_advancement=0.71,\n",
    "                                                 time_window=100)\n",
    "vis.show_traces([vis.df])\n",
    "vis(0.2)"
   ]
  },
  {
   "cell_type": "code",
   "execution_count": null,
   "metadata": {},
   "outputs": [],
   "source": [
    "    vis = DataFrameVisualization.from_root('/media/francesco/saetta/krock-dataset/new-val/csvs/', time_window=100)\n",
    "    vis(0.2)\n"
   ]
  },
  {
   "cell_type": "code",
   "execution_count": null,
   "metadata": {},
   "outputs": [],
   "source": [
    "import seaborn as sns\n",
    "import matplotlib.pyplot as plt\n",
    "from utilities.postprocessing.handlers.functional import read_image"
   ]
  },
  {
   "cell_type": "code",
   "execution_count": null,
   "metadata": {
    "scrolled": true
   },
   "outputs": [],
   "source": [
    "fig = plt.figure()\n",
    "hm = read_image('/media/francesco/saetta/krock-dataset/new-test-random/patches/0.71/querry-big-10-10-1558293308.877082-13.png')\n",
    "sns.heatmap(hm)"
   ]
  },
  {
   "cell_type": "code",
   "execution_count": null,
   "metadata": {
    "scrolled": true
   },
   "outputs": [],
   "source": [
    "from utilities.patches import *\n",
    "import cv2 \n",
    "\n",
    "fig = plt.figure()\n",
    "hm = read_image('/media/francesco/saetta/krock-dataset/train/patches/0.71/bumps0-2-1558007105.485-277.png')\n",
    "sns.heatmap(hm)"
   ]
  },
  {
   "cell_type": "code",
   "execution_count": null,
   "metadata": {
    "scrolled": false
   },
   "outputs": [],
   "source": [
    "fig = plt.figure()\n",
    "hm = read_image('/media/francesco/saetta/krock-dataset/train/patches/0.71/bars1-1-1558017877.997997-92.png')\n",
    "# hm = cv2.resize(hm, (8,8))\n",
    "print(hm.shape)\n",
    "# hm = cv2.resize(hm, (76,76))\n",
    "sns.heatmap(hm)"
   ]
  }
 ],
 "metadata": {
  "kernelspec": {
   "display_name": "Python 3",
   "language": "python",
   "name": "python3"
  },
  "language_info": {
   "codemirror_mode": {
    "name": "ipython",
    "version": 3
   },
   "file_extension": ".py",
   "mimetype": "text/x-python",
   "name": "python",
   "nbconvert_exporter": "python",
   "pygments_lexer": "ipython3",
   "version": "3.6.6"
  }
 },
 "nbformat": 4,
 "nbformat_minor": 2
}
