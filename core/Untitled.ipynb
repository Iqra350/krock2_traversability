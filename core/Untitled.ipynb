{
 "cells": [
  {
   "cell_type": "code",
   "execution_count": 4,
   "metadata": {},
   "outputs": [],
   "source": [
    "from simulation import Simulation\n",
    "sim = Simulation(map_path='./maps/new-train/bumps0.png', max_time=10, n=2, out_dir=out_dir, height=1)"
   ]
  },
  {
   "cell_type": "code",
   "execution_count": 16,
   "metadata": {},
   "outputs": [
    {
     "name": "stdout",
     "output_type": "stream",
     "text": [
      "./maps/new-train/bumps1-rocks2.png\n",
      "./maps/new-train/ramp1-rocks0.png\n",
      "./maps/new-train/slope_rocks1.png\n",
      "./maps/new-train/ramp0-rocks2.png\n",
      "./maps/new-train/bumps0.png\n",
      "./maps/new-train/holes2.png\n",
      "./maps/new-train/ramp0.png\n",
      "./maps/new-train/bumps3.png\n",
      "./maps/new-train/bumps0-rocks0.png\n",
      "./maps/new-train/bars1.png\n",
      "./maps/new-train/bumps1.png\n",
      "./maps/new-train/bumps3-rocks0.png\n",
      "./maps/new-train/bumps0-rocks1.png\n",
      "./maps/new-train/steps1.png\n",
      "./maps/new-train/ramp2-rocks2.png\n",
      "./maps/new-train/ramp0-rocks0.png\n",
      "./maps/new-train/bumps1-rocks0.png\n",
      "./maps/new-train/ramp1-rocks1.png\n",
      "./maps/new-train/bumps2-rocks2.png\n",
      "./maps/new-train/bumps2-rocks1.png\n",
      "./maps/new-train/ramp1-rocks2.png\n",
      "./maps/new-train/ramp2-rocks1.png\n",
      "./maps/new-train/bumps2.png\n",
      "./maps/new-train/steps2.png\n",
      "./maps/new-train/bars3.png\n",
      "./maps/new-train/bumps2-rocks0.png\n",
      "./maps/new-train/bumps0-rocks3.png\n",
      "./maps/new-train/bumps3-rocks1.png\n",
      "./maps/new-train/ramp2.png\n",
      "./maps/new-train/rails3.png\n",
      "./maps/new-train/ramp2-rocks0.png\n",
      "./maps/new-train/bumps3-rocks2.png\n",
      "./maps/new-train/bumps0-rocks2.png\n",
      "./maps/new-train/ramp0-rocks1.png\n",
      "./maps/new-train/rails1.png\n",
      "./maps/new-train/rails2.png\n",
      "./maps/new-train/ramp1.png\n",
      "./maps/new-train/holes1.png\n",
      "./maps/new-train/bumps1-rocks1.png\n",
      "./maps/new-train/steps3.png\n",
      "./maps/new-train/arc_rocks.png\n"
     ]
    }
   ],
   "source": [
    "map_path='./maps/new-train/bumps0.png'\n",
    "from PIL import Image\n",
    "import glob\n",
    "image_list = []\n",
    "for filename in glob.glob('./maps/new-train/*.png'): #assuming gif\n",
    "    im=Image.open(filename)\n",
    "    print(filename)\n"
   ]
  },
  {
   "cell_type": "code",
   "execution_count": null,
   "metadata": {},
   "outputs": [],
   "source": []
  }
 ],
 "metadata": {
  "kernelspec": {
   "display_name": "Python 3",
   "language": "python",
   "name": "python3"
  },
  "language_info": {
   "codemirror_mode": {
    "name": "ipython",
    "version": 3
   },
   "file_extension": ".py",
   "mimetype": "text/x-python",
   "name": "python",
   "nbconvert_exporter": "python",
   "pygments_lexer": "ipython3",
   "version": "3.6.6"
  }
 },
 "nbformat": 4,
 "nbformat_minor": 2
}
