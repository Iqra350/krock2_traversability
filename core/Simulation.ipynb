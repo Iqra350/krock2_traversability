{
 "cells": [
  {
   "cell_type": "code",
   "execution_count": 1,
   "metadata": {},
   "outputs": [],
   "source": [
    "%reload_ext autoreload\n",
    "%autoreload 2"
   ]
  },
  {
   "cell_type": "markdown",
   "metadata": {},
   "source": [
    "\n",
    "# Quick Start\n",
    "\n",
    "To run a simulation on a terrain stored as an heightmap and store the robot's information in a bag file. Remember to throttle the `/pose` topic with\n",
    "`rosrun topic_tools throttle messages /krock/pose 50`"
   ]
  },
  {
   "cell_type": "code",
   "execution_count": 2,
   "metadata": {
    "scrolled": true
   },
   "outputs": [
    {
     "name": "stderr",
     "output_type": "stream",
     "text": [
      "\r",
      "  0%|          | 0/1 [00:00<?, ?it/s]"
     ]
    },
    {
     "name": "stdout",
     "output_type": "stream",
     "text": [
      "/root/code/simulation/env/webots/krock/children_no_tail\n",
      "success: 1\n"
     ]
    },
    {
     "name": "stderr",
     "output_type": "stream",
     "text": [
      "                                                              "
     ]
    },
    {
     "name": "stdout",
     "output_type": "stream",
     "text": [
      "[INFO] bags stored at /data/iakram/Shared_data/bumps0.png/bags\n",
      "14.50643539428711\n"
     ]
    },
    {
     "name": "stderr",
     "output_type": "stream",
     "text": [
      "\r"
     ]
    }
   ],
   "source": [
    "import time\n",
    "start = time.time()\n",
    "from simulation import Simulation\n",
    "from PIL import Image\n",
    "import glob\n",
    "image_list = []\n",
    "\n",
    "# Run the simulation for single map\n",
    "\n",
    "out_dir='/data/iakram/Shared_data/bumps0.png'\n",
    "sim = Simulation(map_path='./maps/new-train/bumps0.png', max_time=10, n=1, out_dir=out_dir, height=1)\n",
    "sim()\n",
    "\n",
    "# Run the simulation for all type of maps\n",
    "\n",
    "#for filename in glob.glob('./maps/new-train/*.png'): #assuming gif\n",
    "#    im=Image.open(filename)\n",
    "#    sim = Simulation(map_path=filename, max_time=2, n=1, out_dir=out_dir, height=1)\n",
    "#    sim()\n",
    "\n",
    "print('[INFO] bags stored at {}'.format(sim.agent_out_dir))\n",
    "\n",
    "end = time.time()\n",
    "print(end - start)"
   ]
  },
  {
   "cell_type": "markdown",
   "metadata": {},
   "source": [
    "You can also pass a `spawn_strategy` that decides how the robot will spawn on the ground. We provided a [`RandomSpawnStrategy`](https://github.com/FrancescoSaverioZuppichini/Master-Thesis/blob/master/core/simulation/env/spawn/SpawnStragety.py) and a [`FlatGroundSpawnStrategy`](https://github.com/FrancescoSaverioZuppichini/Master-Thesis/blob/master/core/simulation/env/spawn/SpawnStragety.py). The second will spawn the robot on the flat part of the terrain."
   ]
  },
  {
   "cell_type": "markdown",
   "metadata": {},
   "source": [
    "The previous snippet will run two simulations for 10 second each on the provided map. Krock will walk on the terrain until the time finish or it reach the boundaries of the terrain. The simulation information are stored in a `.csv` file at `out_dir/meta.csv`."
   ]
  },
  {
   "cell_type": "code",
   "execution_count": 5,
   "metadata": {},
   "outputs": [
    {
     "ename": "FileNotFoundError",
     "evalue": "[Errno 2] File b'/data/iakram/Shared_data/meta.csv' does not exist: b'/data/iakram/Shared_data/meta.csv'",
     "output_type": "error",
     "traceback": [
      "\u001b[0;31m---------------------------------------------------------------------------\u001b[0m",
      "\u001b[0;31mFileNotFoundError\u001b[0m                         Traceback (most recent call last)",
      "\u001b[0;32m<ipython-input-5-21ab5ebf597d>\u001b[0m in \u001b[0;36m<module>\u001b[0;34m\u001b[0m\n\u001b[1;32m      1\u001b[0m \u001b[0;32mimport\u001b[0m \u001b[0mpandas\u001b[0m \u001b[0;32mas\u001b[0m \u001b[0mpd\u001b[0m\u001b[0;34m\u001b[0m\u001b[0m\n\u001b[0;32m----> 2\u001b[0;31m \u001b[0mpd\u001b[0m\u001b[0;34m.\u001b[0m\u001b[0mread_csv\u001b[0m\u001b[0;34m(\u001b[0m\u001b[0;34m'/data/iakram/Shared_data/meta.csv'\u001b[0m\u001b[0;34m)\u001b[0m\u001b[0;34m\u001b[0m\u001b[0m\n\u001b[0m",
      "\u001b[0;32m/usr/local/lib/python3.6/dist-packages/pandas/io/parsers.py\u001b[0m in \u001b[0;36mparser_f\u001b[0;34m(filepath_or_buffer, sep, delimiter, header, names, index_col, usecols, squeeze, prefix, mangle_dupe_cols, dtype, engine, converters, true_values, false_values, skipinitialspace, skiprows, skipfooter, nrows, na_values, keep_default_na, na_filter, verbose, skip_blank_lines, parse_dates, infer_datetime_format, keep_date_col, date_parser, dayfirst, cache_dates, iterator, chunksize, compression, thousands, decimal, lineterminator, quotechar, quoting, doublequote, escapechar, comment, encoding, dialect, error_bad_lines, warn_bad_lines, delim_whitespace, low_memory, memory_map, float_precision)\u001b[0m\n\u001b[1;32m    683\u001b[0m         )\n\u001b[1;32m    684\u001b[0m \u001b[0;34m\u001b[0m\u001b[0m\n\u001b[0;32m--> 685\u001b[0;31m         \u001b[0;32mreturn\u001b[0m \u001b[0m_read\u001b[0m\u001b[0;34m(\u001b[0m\u001b[0mfilepath_or_buffer\u001b[0m\u001b[0;34m,\u001b[0m \u001b[0mkwds\u001b[0m\u001b[0;34m)\u001b[0m\u001b[0;34m\u001b[0m\u001b[0m\n\u001b[0m\u001b[1;32m    686\u001b[0m \u001b[0;34m\u001b[0m\u001b[0m\n\u001b[1;32m    687\u001b[0m     \u001b[0mparser_f\u001b[0m\u001b[0;34m.\u001b[0m\u001b[0m__name__\u001b[0m \u001b[0;34m=\u001b[0m \u001b[0mname\u001b[0m\u001b[0;34m\u001b[0m\u001b[0m\n",
      "\u001b[0;32m/usr/local/lib/python3.6/dist-packages/pandas/io/parsers.py\u001b[0m in \u001b[0;36m_read\u001b[0;34m(filepath_or_buffer, kwds)\u001b[0m\n\u001b[1;32m    455\u001b[0m \u001b[0;34m\u001b[0m\u001b[0m\n\u001b[1;32m    456\u001b[0m     \u001b[0;31m# Create the parser.\u001b[0m\u001b[0;34m\u001b[0m\u001b[0;34m\u001b[0m\u001b[0m\n\u001b[0;32m--> 457\u001b[0;31m     \u001b[0mparser\u001b[0m \u001b[0;34m=\u001b[0m \u001b[0mTextFileReader\u001b[0m\u001b[0;34m(\u001b[0m\u001b[0mfp_or_buf\u001b[0m\u001b[0;34m,\u001b[0m \u001b[0;34m**\u001b[0m\u001b[0mkwds\u001b[0m\u001b[0;34m)\u001b[0m\u001b[0;34m\u001b[0m\u001b[0m\n\u001b[0m\u001b[1;32m    458\u001b[0m \u001b[0;34m\u001b[0m\u001b[0m\n\u001b[1;32m    459\u001b[0m     \u001b[0;32mif\u001b[0m \u001b[0mchunksize\u001b[0m \u001b[0;32mor\u001b[0m \u001b[0miterator\u001b[0m\u001b[0;34m:\u001b[0m\u001b[0;34m\u001b[0m\u001b[0m\n",
      "\u001b[0;32m/usr/local/lib/python3.6/dist-packages/pandas/io/parsers.py\u001b[0m in \u001b[0;36m__init__\u001b[0;34m(self, f, engine, **kwds)\u001b[0m\n\u001b[1;32m    893\u001b[0m             \u001b[0mself\u001b[0m\u001b[0;34m.\u001b[0m\u001b[0moptions\u001b[0m\u001b[0;34m[\u001b[0m\u001b[0;34m\"has_index_names\"\u001b[0m\u001b[0;34m]\u001b[0m \u001b[0;34m=\u001b[0m \u001b[0mkwds\u001b[0m\u001b[0;34m[\u001b[0m\u001b[0;34m\"has_index_names\"\u001b[0m\u001b[0;34m]\u001b[0m\u001b[0;34m\u001b[0m\u001b[0m\n\u001b[1;32m    894\u001b[0m \u001b[0;34m\u001b[0m\u001b[0m\n\u001b[0;32m--> 895\u001b[0;31m         \u001b[0mself\u001b[0m\u001b[0;34m.\u001b[0m\u001b[0m_make_engine\u001b[0m\u001b[0;34m(\u001b[0m\u001b[0mself\u001b[0m\u001b[0;34m.\u001b[0m\u001b[0mengine\u001b[0m\u001b[0;34m)\u001b[0m\u001b[0;34m\u001b[0m\u001b[0m\n\u001b[0m\u001b[1;32m    896\u001b[0m \u001b[0;34m\u001b[0m\u001b[0m\n\u001b[1;32m    897\u001b[0m     \u001b[0;32mdef\u001b[0m \u001b[0mclose\u001b[0m\u001b[0;34m(\u001b[0m\u001b[0mself\u001b[0m\u001b[0;34m)\u001b[0m\u001b[0;34m:\u001b[0m\u001b[0;34m\u001b[0m\u001b[0m\n",
      "\u001b[0;32m/usr/local/lib/python3.6/dist-packages/pandas/io/parsers.py\u001b[0m in \u001b[0;36m_make_engine\u001b[0;34m(self, engine)\u001b[0m\n\u001b[1;32m   1133\u001b[0m     \u001b[0;32mdef\u001b[0m \u001b[0m_make_engine\u001b[0m\u001b[0;34m(\u001b[0m\u001b[0mself\u001b[0m\u001b[0;34m,\u001b[0m \u001b[0mengine\u001b[0m\u001b[0;34m=\u001b[0m\u001b[0;34m\"c\"\u001b[0m\u001b[0;34m)\u001b[0m\u001b[0;34m:\u001b[0m\u001b[0;34m\u001b[0m\u001b[0m\n\u001b[1;32m   1134\u001b[0m         \u001b[0;32mif\u001b[0m \u001b[0mengine\u001b[0m \u001b[0;34m==\u001b[0m \u001b[0;34m\"c\"\u001b[0m\u001b[0;34m:\u001b[0m\u001b[0;34m\u001b[0m\u001b[0m\n\u001b[0;32m-> 1135\u001b[0;31m             \u001b[0mself\u001b[0m\u001b[0;34m.\u001b[0m\u001b[0m_engine\u001b[0m \u001b[0;34m=\u001b[0m \u001b[0mCParserWrapper\u001b[0m\u001b[0;34m(\u001b[0m\u001b[0mself\u001b[0m\u001b[0;34m.\u001b[0m\u001b[0mf\u001b[0m\u001b[0;34m,\u001b[0m \u001b[0;34m**\u001b[0m\u001b[0mself\u001b[0m\u001b[0;34m.\u001b[0m\u001b[0moptions\u001b[0m\u001b[0;34m)\u001b[0m\u001b[0;34m\u001b[0m\u001b[0m\n\u001b[0m\u001b[1;32m   1136\u001b[0m         \u001b[0;32melse\u001b[0m\u001b[0;34m:\u001b[0m\u001b[0;34m\u001b[0m\u001b[0m\n\u001b[1;32m   1137\u001b[0m             \u001b[0;32mif\u001b[0m \u001b[0mengine\u001b[0m \u001b[0;34m==\u001b[0m \u001b[0;34m\"python\"\u001b[0m\u001b[0;34m:\u001b[0m\u001b[0;34m\u001b[0m\u001b[0m\n",
      "\u001b[0;32m/usr/local/lib/python3.6/dist-packages/pandas/io/parsers.py\u001b[0m in \u001b[0;36m__init__\u001b[0;34m(self, src, **kwds)\u001b[0m\n\u001b[1;32m   1904\u001b[0m         \u001b[0mkwds\u001b[0m\u001b[0;34m[\u001b[0m\u001b[0;34m\"usecols\"\u001b[0m\u001b[0;34m]\u001b[0m \u001b[0;34m=\u001b[0m \u001b[0mself\u001b[0m\u001b[0;34m.\u001b[0m\u001b[0musecols\u001b[0m\u001b[0;34m\u001b[0m\u001b[0m\n\u001b[1;32m   1905\u001b[0m \u001b[0;34m\u001b[0m\u001b[0m\n\u001b[0;32m-> 1906\u001b[0;31m         \u001b[0mself\u001b[0m\u001b[0;34m.\u001b[0m\u001b[0m_reader\u001b[0m \u001b[0;34m=\u001b[0m \u001b[0mparsers\u001b[0m\u001b[0;34m.\u001b[0m\u001b[0mTextReader\u001b[0m\u001b[0;34m(\u001b[0m\u001b[0msrc\u001b[0m\u001b[0;34m,\u001b[0m \u001b[0;34m**\u001b[0m\u001b[0mkwds\u001b[0m\u001b[0;34m)\u001b[0m\u001b[0;34m\u001b[0m\u001b[0m\n\u001b[0m\u001b[1;32m   1907\u001b[0m         \u001b[0mself\u001b[0m\u001b[0;34m.\u001b[0m\u001b[0munnamed_cols\u001b[0m \u001b[0;34m=\u001b[0m \u001b[0mself\u001b[0m\u001b[0;34m.\u001b[0m\u001b[0m_reader\u001b[0m\u001b[0;34m.\u001b[0m\u001b[0munnamed_cols\u001b[0m\u001b[0;34m\u001b[0m\u001b[0m\n\u001b[1;32m   1908\u001b[0m \u001b[0;34m\u001b[0m\u001b[0m\n",
      "\u001b[0;32mpandas/_libs/parsers.pyx\u001b[0m in \u001b[0;36mpandas._libs.parsers.TextReader.__cinit__\u001b[0;34m()\u001b[0m\n",
      "\u001b[0;32mpandas/_libs/parsers.pyx\u001b[0m in \u001b[0;36mpandas._libs.parsers.TextReader._setup_parser_source\u001b[0;34m()\u001b[0m\n",
      "\u001b[0;31mFileNotFoundError\u001b[0m: [Errno 2] File b'/data/iakram/Shared_data/meta.csv' does not exist: b'/data/iakram/Shared_data/meta.csv'"
     ]
    }
   ],
   "source": [
    "import pandas as pd\n",
    "pd.read_csv('/data/iakram/Shared_data/meta.csv')"
   ]
  },
  {
   "cell_type": "markdown",
   "metadata": {},
   "source": [
    "The `.bag` files are stored into `tmp`"
   ]
  },
  {
   "cell_type": "code",
   "execution_count": 6,
   "metadata": {},
   "outputs": [
    {
     "name": "stdout",
     "output_type": "stream",
     "text": [
      "ls: cannot access '/data/iakram/Shared_data/bags': No such file or directory\r\n"
     ]
    }
   ],
   "source": [
    "!ls /data/iakram/Shared_data/bags | grep .bag"
   ]
  },
  {
   "cell_type": "markdown",
   "metadata": {},
   "source": [
    "## Customization\n",
    "To change how the robot behaviour you can create subclass the `Simulation` class and override `step`"
   ]
  },
  {
   "cell_type": "code",
   "execution_count": null,
   "metadata": {},
   "outputs": [],
   "source": [
    "from random import randint\n",
    "\n",
    "class SimulationWithRandomGait(Simulation):\n",
    "    def step(self):\n",
    "        return self.env.step({\n",
    "        'frontal_freq': 5,\n",
    "        'lateral_freq': 0,\n",
    "        'gait': randint(1,3) # this will select a different gait at each step\n",
    "    })\n",
    "    \n",
    "sim = SimulationWithRandomGait(map_path='./maps/new-train/bumps0.png', max_time=10,  n=2, out_dir='/tmp/', height=1)\n",
    "sim()"
   ]
  },
  {
   "cell_type": "markdown",
   "metadata": {},
   "source": [
    "To understand why and how this work please read the following sections."
   ]
  },
  {
   "cell_type": "markdown",
   "metadata": {},
   "source": [
    "# API\n",
    "\n",
    "This packages provide a clean API to create and run a robotic simulation. In our work, we used Webots as engine and a robot called Krock. "
   ]
  },
  {
   "cell_type": "markdown",
   "metadata": {},
   "source": [
    "## Webots + Krock\n",
    "![alt text](https://raw.githubusercontent.com/FrancescoSaverioZuppichini/Master-Thesis/master/resources/images/krock.jpg)\n",
    "\n",
    "In order to run the Krock robot using Webots we provide a [gym](https://gym.openai.com/) env called `KrockWebotsEnv`. If you know gym, then you are good to go. It follows a **basic example** where we let Krock walk forward"
   ]
  },
  {
   "cell_type": "code",
   "execution_count": 15,
   "metadata": {},
   "outputs": [
    {
     "name": "stdout",
     "output_type": "stream",
     "text": [
      "/root/code/simulation/env/webots/krock/children_no_tail\n",
      "success: 1\n",
      "Initial observations:\n",
      "{'sensors': {'front_cam': None,\n",
      "             'orientation': {'w': 0.12401767539506328,\n",
      "                             'x': 0.03449139119744101,\n",
      "                             'y': 0.0001368480154349657,\n",
      "                             'z': -0.9916803625137943},\n",
      "             'position': {'x': -1.7905448807601698,\n",
      "                          'y': 3.98588688542524,\n",
      "                          'z': -0.7806482703837692}}}\n",
      "{'sensors': {'front_cam': None,\n",
      "             'orientation': {'w': 0.12401767539506328,\n",
      "                             'x': 0.03449139119744101,\n",
      "                             'y': 0.0001368480154349657,\n",
      "                             'z': -0.9916803625137943},\n",
      "             'position': {'x': -1.7905448807601698,\n",
      "                          'y': 3.98588688542524,\n",
      "                          'z': -0.7806482703837692}}}\n",
      "{'sensors': {'front_cam': None,\n",
      "             'orientation': {'w': 0.12401767539506328,\n",
      "                             'x': 0.03449139119744101,\n",
      "                             'y': 0.0001368480154349657,\n",
      "                             'z': -0.9916803625137943},\n",
      "             'position': {'x': -1.7905448807601698,\n",
      "                          'y': 3.98588688542524,\n",
      "                          'z': -0.7806482703837692}}}\n",
      "{'sensors': {'front_cam': None,\n",
      "             'orientation': {'w': 0.12401767539506328,\n",
      "                             'x': 0.03449139119744101,\n",
      "                             'y': 0.0001368480154349657,\n",
      "                             'z': -0.9916803625137943},\n",
      "             'position': {'x': -1.7905448807601698,\n",
      "                          'y': 3.98588688542524,\n",
      "                          'z': -0.7806482703837692}}}\n",
      "{'sensors': {'front_cam': None,\n",
      "             'orientation': {'w': 0.12399154954989873,\n",
      "                             'x': 0.034479980564973464,\n",
      "                             'y': 0.00015096423132510424,\n",
      "                             'z': -0.9916840241681092},\n",
      "             'position': {'x': -1.7905358771542075,\n",
      "                          'y': 3.9859074914852037,\n",
      "                          'z': -0.7806137180050605}}}\n"
     ]
    },
    {
     "data": {
      "text/plain": [
       "({'sensors': {'position': {'x': -1.7905358771542075,\n",
       "    'y': 3.9859074914852037,\n",
       "    'z': -0.7806137180050605},\n",
       "   'orientation': {'x': 0.034479980564973464,\n",
       "    'y': 0.00015096423132510424,\n",
       "    'z': -0.9916840241681092,\n",
       "    'w': 0.12399154954989873},\n",
       "   'front_cam': None}},\n",
       " 0,\n",
       " False,\n",
       " {})"
      ]
     },
     "execution_count": 15,
     "metadata": {},
     "output_type": "execute_result"
    }
   ],
   "source": [
    "import rospy\n",
    "import pprint\n",
    "\n",
    "from simulation.env.webots.krock import Krock, KrockWebotsEnv\n",
    "# load a world file\n",
    "WORLD_PATH = '/data/iakram/Master-Thesis/core/simulation/env/webots/krock/krock2_ros/worlds/bumps0.wbt'\n",
    "N_STEPS = 4\n",
    "\n",
    "rospy.init_node(\"traversability_simulation\")\n",
    "# create our env\n",
    "env = KrockWebotsEnv.from_file(WORLD_PATH)\n",
    "# spawn the robot at random pose\n",
    "init_obs = env.reset(pose=env.random_position)\n",
    "\n",
    "print('Initial observations:')\n",
    "pprint.pprint(init_obs)\n",
    "\n",
    "for _ in range(N_STEPS):\n",
    "#   go forward for a while\n",
    "    obs, r, done, _ = env.step(env.GO_FORWARD)\n",
    "    pprint.pprint(obs)\n",
    "    if done: break\n",
    "        \n",
    "env.step(env.STOP)"
   ]
  },
  {
   "cell_type": "markdown",
   "metadata": {},
   "source": [
    "### Actions"
   ]
  },
  {
   "cell_type": "markdown",
   "metadata": {},
   "source": [
    "`KrockWebotsEnv` implements `WebotsEnv` that is a generic env for Webots. Thanks to to gym interface we can explore the action space and the observation space easily\n",
    "\n"
   ]
  },
  {
   "cell_type": "code",
   "execution_count": 16,
   "metadata": {},
   "outputs": [
    {
     "name": "stdout",
     "output_type": "stream",
     "text": [
      "Dict(frontal_freq:Box(), gait:Discrete(2), lateral_freq:Box())\n",
      "Dict(sensors:Dict(front_cam:Tuple(Box(600, 800, 3), Box(600, 800, 3)), orientation:Dict(w:Box(1,), x:Box(1,), y:Box(1,), z:Box(1,)), position:Dict(x:Box(1,), y:Box(1,), z:Box(1,))))\n"
     ]
    }
   ],
   "source": [
    "print(env.action_space)\n",
    "print(env.observation_space)"
   ]
  },
  {
   "cell_type": "markdown",
   "metadata": {},
   "source": [
    "Select a random action is even esier\n"
   ]
  },
  {
   "cell_type": "code",
   "execution_count": 17,
   "metadata": {},
   "outputs": [
    {
     "data": {
      "text/plain": [
       "({'sensors': {'position': {'x': -1.864495567480065,\n",
       "    'y': 3.969835805996932,\n",
       "    'z': -0.7994761529604703},\n",
       "   'orientation': {'x': 0.016735405762523494,\n",
       "    'y': 0.0002986041413179069,\n",
       "    'z': -0.9883825942399058,\n",
       "    'w': 0.15106185631430571},\n",
       "   'front_cam': None}},\n",
       " 0,\n",
       " False,\n",
       " {})"
      ]
     },
     "execution_count": 17,
     "metadata": {},
     "output_type": "execute_result"
    }
   ],
   "source": [
    "obs, r, done, _ = env.step(env.action_space.sample())\n",
    "env.step(env.STOP)"
   ]
  },
  {
   "cell_type": "markdown",
   "metadata": {},
   "source": [
    "We can easily **change the gait** by passing the correct action\n",
    "![alt text](https://raw.githubusercontent.com/FrancescoSaverioZuppichini/Master-Thesis/master/resources/images/krock-gait.jpg)\n"
   ]
  },
  {
   "cell_type": "code",
   "execution_count": 19,
   "metadata": {},
   "outputs": [],
   "source": [
    "import time\n",
    "# init_obs = env.reset(pose=env.random_position)\n",
    "obs, r, done, _ = env.step({\n",
    "        'frontal_freq': 5,\n",
    "        'lateral_freq': 0,\n",
    "        'gait': 2 # change gait to 2\n",
    "    })\n",
    "time.sleep(2)\n",
    "obs, r, done, _ = env.step(env.STOP) # stop will also reset the gait to 1"
   ]
  },
  {
   "cell_type": "markdown",
   "metadata": {},
   "source": [
    "# Under the hood\n",
    "\n",
    "To create the final enviroment we had to first.\n",
    "\n",
    "## Define the Enviroment\n",
    "Under the hood `KrockWebotsEnv` implements [`WebotsEnv`](https://github.com/FrancescoSaverioZuppichini/Master-Thesis/blob/master/core/simulation/env/webots/WebotsEnv.py). `WebotsEnv` creates the enviroment by from an image (heightmap)/ numpy array or a webots worl file. Check the `classmethod`. It also allows to get the height in a point and to spawn the robot in the terrain. "
   ]
  },
  {
   "cell_type": "markdown",
   "metadata": {},
   "source": [
    "## Define the Robot\n",
    "\n",
    "### Agent API\n",
    "The base class to create a robot is `Agent`"
   ]
  },
  {
   "cell_type": "code",
   "execution_count": 20,
   "metadata": {},
   "outputs": [
    {
     "name": "stdout",
     "output_type": "stream",
     "text": [
      "I am alive!\n",
      "I am moving!\n",
      "bye bye\n"
     ]
    }
   ],
   "source": [
    "from simulation.agent import Agent\n",
    "\n",
    "class DummyAgent(Agent):\n",
    "    def __call__(self, *args, **kwargs):\n",
    "        print('I am alive!')\n",
    "    def act(self, env, *args, **kwargs):\n",
    "        print('I am moving!')\n",
    "    def die(self, *args, **kwargs):\n",
    "        print('bye bye')\n",
    "    \n",
    "a = DummyAgent()\n",
    "env = None\n",
    "a() # init\n",
    "a.act(env) # do something\n",
    "a.die(env) # RIP, clean up (e.g store stuff empty the state)"
   ]
  },
  {
   "cell_type": "markdown",
   "metadata": {},
   "source": [
    "### ROS\n",
    "A `Rospy` agent is already implemented and can be found at `agent.RospyAgent`. It adds two methods to the basic `Agent`: `init_publishers` and `init_subscribers`. They must be overrided to initialise the subscribers and listeners. "
   ]
  },
  {
   "cell_type": "code",
   "execution_count": 48,
   "metadata": {},
   "outputs": [
    {
     "name": "stdout",
     "output_type": "stream",
     "text": [
      "{'pose': <rospy.topics.Subscriber object at 0x7fe39f1a9978>}\n",
      "{'joy': <rospy.topics.Publisher object at 0x7fe39f1a9b38>}\n"
     ]
    }
   ],
   "source": [
    "from simulation.agent import RospyAgent\n",
    "from geometry_msgs.msg import PoseStamped\n",
    "from sensor_msgs.msg import Joy\n",
    "\n",
    "class MyRospyAgent(RospyAgent):\n",
    "    def init_publishers(self):\n",
    "        return {\n",
    "            'joy': rospy.Publisher('/joy', Joy, queue_size=1),\n",
    "        }\n",
    "\n",
    "    def init_subscribers(self):\n",
    "        return { 'pose': \n",
    "                rospy.Subscriber('/pose', PoseStamped, self.callback_pose)\n",
    "               }\n",
    "\n",
    "    def callback_pose(self, data):\n",
    "        # this will triggers the `on_state_change` method in all callbacks\n",
    "        self.state['pose'] = data\n",
    "\n",
    "a = MyRospyAgent()\n",
    "a()\n",
    "print(a.subscribers)\n",
    "print(a.publishers)\n"
   ]
  },
  {
   "cell_type": "markdown",
   "metadata": {},
   "source": [
    "### Callbacks\n",
    "`Agent` implements the protocol `Callbackable` protocol. A callback can be\n",
    "added by calling the `add_callback` or `add_callbacks`. "
   ]
  },
  {
   "cell_type": "code",
   "execution_count": 49,
   "metadata": {},
   "outputs": [],
   "source": [
    "from simulation.agent.callbacks import AgentCallback\n",
    "\n",
    "class MyCallback(AgentCallback):\n",
    "    def on_state_change(self, agent, key, value):\n",
    "        print(key, value)"
   ]
  },
  {
   "cell_type": "markdown",
   "metadata": {},
   "source": [
    "Each `Agent` has a `state` that is just a `dict` . Every time it is changed it triggers the `on_state_change` event. This is usefull\n",
    "to record stuff."
   ]
  },
  {
   "cell_type": "code",
   "execution_count": 50,
   "metadata": {},
   "outputs": [
    {
     "name": "stdout",
     "output_type": "stream",
     "text": [
      "I am alive!\n",
      "foo foo\n"
     ]
    }
   ],
   "source": [
    "a = DummyAgent()\n",
    "a.add_callback(MyCallback())\n",
    "a()\n",
    "\n",
    "a.state['foo'] = 'foo'"
   ]
  },
  {
   "cell_type": "markdown",
   "metadata": {},
   "source": [
    "#### RosBagSaver\n",
    "\n",
    "A callback to store the topics of an agent into bags file is implemented"
   ]
  },
  {
   "cell_type": "code",
   "execution_count": 51,
   "metadata": {},
   "outputs": [],
   "source": [
    "from simulation.agent.callbacks import RosBagSaver\n",
    "\n",
    "a = MyRospyAgent()\n",
    "a.add_callbacks([RosBagSaver(save_dir='/temp/data', topics=['pose'])])\n",
    "a()"
   ]
  },
  {
   "cell_type": "markdown",
   "metadata": {},
   "source": [
    "The files will be stored everytime `agent.die()` il called. A new thread is always spawned to avoid blocking"
   ]
  },
  {
   "cell_type": "markdown",
   "metadata": {},
   "source": [
    "## Krock\n",
    "[`Krock`](https://github.com/FrancescoSaverioZuppichini/Master-Thesis/blob/master/core/simulation/env/webots/krock/Krock.py) is just a `RospyAgent` that has already all the subscribers and listeners."
   ]
  },
  {
   "cell_type": "code",
   "execution_count": null,
   "metadata": {},
   "outputs": [],
   "source": []
  }
 ],
 "metadata": {
  "kernelspec": {
   "display_name": "Python 3",
   "language": "python",
   "name": "python3"
  },
  "language_info": {
   "codemirror_mode": {
    "name": "ipython",
    "version": 3
   },
   "file_extension": ".py",
   "mimetype": "text/x-python",
   "name": "python",
   "nbconvert_exporter": "python",
   "pygments_lexer": "ipython3",
   "version": "3.6.6"
  }
 },
 "nbformat": 4,
 "nbformat_minor": 2
}
